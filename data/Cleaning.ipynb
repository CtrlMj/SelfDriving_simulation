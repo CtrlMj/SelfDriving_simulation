{
 "cells": [
  {
   "cell_type": "markdown",
   "metadata": {},
   "source": [
    "- ### After downloading the simulator, a few test drives with are done to get the hang of environment (Keyboard sensitivities, the road, etc.)\n",
    "- ### The car was driven for a few rounds on the trail with an attempt to create a general dataset which includes moving backwards, swerving to sides, moving stable and steady, with and without acceleration.\n",
    "- ### Logs and the corresponding jpg images can easily be downloaded"
   ]
  },
  {
   "cell_type": "code",
   "execution_count": null,
   "metadata": {},
   "outputs": [],
   "source": [
    "import os, ntpath\n",
    "import numpy as np\n",
    "import matplotlib.pyplot as plt\n",
    "import matplotlib.image as mpimg\n",
    "import cv2\n",
    "import pandas as pd\n",
    "from sklearn.model_selection import train_test_split"
   ]
  },
  {
   "cell_type": "code",
   "execution_count": null,
   "metadata": {
    "scrolled": true
   },
   "outputs": [],
   "source": [
    "data = pd.read_csv(\"SelfDriving/log.csv\", names = [\"center\", \"left\", \"right\", \"steering\", \"throttle\", \"reverse\", \"speed\"])\n",
    "print(data.head())"
   ]
  },
  {
   "cell_type": "markdown",
   "metadata": {},
   "source": [
    "center  \\\n",
    "0  D:\\User-Majid\\University_Courses\\M.Sc\\Courses\\...   \n",
    "1  D:\\User-Majid\\University_Courses\\M.Sc\\Courses\\...   \n",
    "2  D:\\User-Majid\\University_Courses\\M.Sc\\Courses\\...   \n",
    "3  D:\\User-Majid\\University_Courses\\M.Sc\\Courses\\...   \n",
    "4  D:\\User-Majid\\University_Courses\\M.Sc\\Courses\\...   \n",
    "\n",
    "                                                left  \\\n",
    "0  D:\\User-Majid\\University_Courses\\M.Sc\\Courses\\...   \n",
    "1  D:\\User-Majid\\University_Courses\\M.Sc\\Courses\\...   \n",
    "2  D:\\User-Majid\\University_Courses\\M.Sc\\Courses\\...   \n",
    "3  D:\\User-Majid\\University_Courses\\M.Sc\\Courses\\...   \n",
    "4  D:\\User-Majid\\University_Courses\\M.Sc\\Courses\\...   \n",
    "\n",
    "                                               right  steering  throttle  \\\n",
    "0  D:\\User-Majid\\University_Courses\\M.Sc\\Courses\\...       0.0       0.0   \n",
    "1  D:\\User-Majid\\University_Courses\\M.Sc\\Courses\\...       0.0       0.0   \n",
    "2  D:\\User-Majid\\University_Courses\\M.Sc\\Courses\\...       0.0       0.0   \n",
    "3  D:\\User-Majid\\University_Courses\\M.Sc\\Courses\\...       0.0       0.0   \n",
    "4  D:\\User-Majid\\University_Courses\\M.Sc\\Courses\\...       0.0       0.0   \n",
    "\n",
    "   reverse     speed  \n",
    "0      0.0  0.451284  \n",
    "1      0.0  0.447647  \n",
    "2      0.0  0.444939  \n",
    "3      0.0  0.441358  \n",
    "4      0.0  0.438693 "
   ]
  },
  {
   "cell_type": "markdown",
   "metadata": {},
   "source": [
    "### Each data entry has columns:\n",
    "1. center = jpg image directory for center angle viewpoint\n",
    "2. left = jpg image directory for left angle viewpoint\n",
    "3. right = jpg image directory for right angle viewpoint\n",
    "4. steering = steering angle value (clockwise positive)\n",
    "5. throttle = throttle value (acceleration)\n",
    "6. reverse = boolean value representing whether moving backwards\n",
    "7. speed = speed value\n",
    "\n",
    "Only the central viewpoint images are worked with. To simplify stuff, direcory names are shortened"
   ]
  },
  {
   "cell_type": "code",
   "execution_count": null,
   "metadata": {},
   "outputs": [],
   "source": [
    "data['center'] = data['center'].apply(lambda x: ntpath.basename(x))\n",
    "print(data.head())\n",
    "print(len(data['center']))"
   ]
  },
  {
   "cell_type": "markdown",
   "metadata": {},
   "source": [
    "center  \\\n",
    "0  center_2019_02_18_14_33_39_945.jpg   \n",
    "1  center_2019_02_18_14_33_40_017.jpg   \n",
    "2  center_2019_02_18_14_33_40_090.jpg   \n",
    "3  center_2019_02_18_14_33_40_160.jpg   \n",
    "4  center_2019_02_18_14_33_40_231.jpg   \n",
    "\n",
    "                                                left  \\\n",
    "0  D:\\User-Majid\\University_Courses\\M.Sc\\Courses\\...   \n",
    "1  D:\\User-Majid\\University_Courses\\M.Sc\\Courses\\...   \n",
    "2  D:\\User-Majid\\University_Courses\\M.Sc\\Courses\\...   \n",
    "3  D:\\User-Majid\\University_Courses\\M.Sc\\Courses\\...   \n",
    "4  D:\\User-Majid\\University_Courses\\M.Sc\\Courses\\...   \n",
    "\n",
    "                                               right  steering  throttle  \\\n",
    "0  D:\\User-Majid\\University_Courses\\M.Sc\\Courses\\...       0.0       0.0   \n",
    "1  D:\\User-Majid\\University_Courses\\M.Sc\\Courses\\...       0.0       0.0   \n",
    "2  D:\\User-Majid\\University_Courses\\M.Sc\\Courses\\...       0.0       0.0   \n",
    "3  D:\\User-Majid\\University_Courses\\M.Sc\\Courses\\...       0.0       0.0   \n",
    "4  D:\\User-Majid\\University_Courses\\M.Sc\\Courses\\...       0.0       0.0   \n",
    "\n",
    "   reverse     speed  \n",
    "0      0.0  0.451284  \n",
    "1      0.0  0.447647  \n",
    "2      0.0  0.444939  \n",
    "3      0.0  0.441358  \n",
    "4      0.0  0.438693\n",
    "\n",
    "7458"
   ]
  },
  {
   "cell_type": "markdown",
   "metadata": {},
   "source": [
    "### Take a look at data disribution"
   ]
  },
  {
   "cell_type": "code",
   "execution_count": null,
   "metadata": {},
   "outputs": [],
   "source": [
    "hist, bins = np.histogram(data['steering'], 25)\n",
    "plt.bar(bins[:-1], hist, width = 0.04)\n",
    "centered_bins = (bins[:-1] + bins[1:]) / 2.0\n",
    "plt.bar(centered_bins, hist, width = 0.04)\n",
    "plt.xlabel(\"steering angle\")\n",
    "threshold = 300\n",
    "plt.plot((-1, 1), (threshold, threshold))\n",
    "plt.show()"
   ]
  },
  {
   "cell_type": "markdown",
   "metadata": {},
   "source": [
    "<img src=\"./ThresholdShown.png\">"
   ]
  },
  {
   "cell_type": "markdown",
   "metadata": {},
   "source": [
    "#### Obviously there is way too many images with zero angle as a result of most of the road being straight. To remove this bias, images with steering value of 0 are curtailed to below the threshold of 300"
   ]
  },
  {
   "cell_type": "code",
   "execution_count": null,
   "metadata": {},
   "outputs": [],
   "source": [
    "from sklearn.utils import shuffle\n",
    "to_be_removed = []                                                              #list to collect indices of removable data\n",
    "for i in range(25):\n",
    "    lst = []                                                                      #list to collect indices\n",
    "    for j in range(len(data['steering'])):\n",
    "        if data['steering'][j] <= bins[i+1] and data['steering'][j] >= bins[i]:     #this means if the steering anlge falls in the bin\n",
    "        lst.append(j)\n",
    "    lst = shuffle(lst)                                                            #we need to shuffle the list in order to avoid truncating only the final portion of the road\n",
    "    to_be_removed.extend(lst[threshold:])\n",
    "\n",
    "data.drop(data.index[to_be_removed], inplace=True)\n",
    "hist, b = np.histogram(data['steering'], 25)\n",
    "centered_bins = (b[:-1] + b[1:]) / 2.0\n",
    "plt.bar(centered_bins, hist, width = 0.04)\n",
    "threshold = 300\n",
    "plt.plot((-1, 1), (threshold, threshold))\n",
    "plt.show()"
   ]
  },
  {
   "cell_type": "markdown",
   "metadata": {},
   "source": [
    "<img src=\"ThresholdShown_curtailed.png\">"
   ]
  },
  {
   "cell_type": "markdown",
   "metadata": {},
   "source": [
    "### Creating train and test datasets"
   ]
  },
  {
   "cell_type": "code",
   "execution_count": null,
   "metadata": {},
   "outputs": [],
   "source": [
    "imagepath = np.array(data['center'])\n",
    "steer = np.array(data['steering'])\n",
    "X_train, X_test, y_train, y_test = train_test_split(imagepath, steer, test_size = 0.2, random_state = 1)\n",
    "imagepath.shape"
   ]
  },
  {
   "cell_type": "markdown",
   "metadata": {},
   "source": [
    "(399,)"
   ]
  },
  {
   "cell_type": "code",
   "execution_count": null,
   "metadata": {},
   "outputs": [],
   "source": [
    "s = X_train[0]\n",
    "s = mpimg.imread(os.path.join('SelfDriving_simulation', 'IMG', s))\n",
    "q = cv2.cvtColor(s, cv2.COLOR_RGB2YUV)                                     #reduce the noise and smooth out the image\n",
    "fig, axs = plt.subplots(nrows=1, ncols=2, figsize=(12, 10))\n",
    "axs[0].imshow(s)\n",
    "axs[1].imshow(q)\n",
    "plt.show()"
   ]
  },
  {
   "cell_type": "markdown",
   "metadata": {},
   "source": [
    "<img src=\"convertedcolors.png\">"
   ]
  },
  {
   "cell_type": "code",
   "execution_count": null,
   "metadata": {},
   "outputs": [],
   "source": []
  }
 ],
 "metadata": {
  "kernelspec": {
   "display_name": "Python 3",
   "language": "python",
   "name": "python3"
  },
  "language_info": {
   "codemirror_mode": {
    "name": "ipython",
    "version": 3
   },
   "file_extension": ".py",
   "mimetype": "text/x-python",
   "name": "python",
   "nbconvert_exporter": "python",
   "pygments_lexer": "ipython3",
   "version": "3.6.8"
  }
 },
 "nbformat": 4,
 "nbformat_minor": 2
}
